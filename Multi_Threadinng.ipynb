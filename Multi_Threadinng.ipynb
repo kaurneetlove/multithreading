{
  "cells": [
    {
      "cell_type": "code",
      "execution_count": 9,
      "metadata": {
        "id": "ju9BbYh71dH5"
      },
      "outputs": [],
      "source": [
        "import os\n",
        "import sys\n",
        "import numpy as np\n",
        "import multiprocessing\n",
        "import threading\n",
        "import time\n",
        "import random as random\n",
        "import matplotlib.pyplot as plt\n",
        "import warnings\n",
        "warnings.filterwarnings(\"ignore\")"
      ]
    },
    {
      "cell_type": "code",
      "execution_count": 10,
      "metadata": {
        "colab": {
          "base_uri": "https://localhost:8080/"
        },
        "id": "zQfAK9aa17Zj",
        "outputId": "3cd73dac-80c7-4e45-b541-2583abab09e2"
      },
      "outputs": [
        {
          "name": "stdout",
          "output_type": "stream",
          "text": [
            "OS Name:  win32\n",
            "Number of cores in the system:  8\n"
          ]
        }
      ],
      "source": [
        "print(\"OS Name: \", sys.platform)\n",
        "\n",
        "# check the number of cores\n",
        "numberOfCores = multiprocessing.cpu_count()\n",
        "print(\"Number of cores in the system: \", numberOfCores)\n"
      ]
    },
    {
      "cell_type": "code",
      "execution_count": 11,
      "metadata": {
        "id": "69bLTtXO19OW"
      },
      "outputs": [],
      "source": [
        "# multiply two matrices\n",
        "def multiply_matrices(mat1, mat2):\n",
        "    return np.dot(mat1, mat2)"
      ]
    },
    {
      "cell_type": "code",
      "execution_count": 12,
      "metadata": {
        "id": "3oOn2r-S1-qX"
      },
      "outputs": [],
      "source": [
        "def matrix_multiplication_threading(num_of_matrices, size_matrix, main_matrix, results, lock_result):\n",
        "    for _ in range(num_of_matrices):\n",
        "        random_matrix = np.random.rand(*size_matrix)\n",
        "        result = multiply_matrices(random_matrix, main_matrix)\n",
        "\n",
        "        with lock_result:\n",
        "            results.append(result)\n"
      ]
    },
    {
      "cell_type": "code",
      "execution_count": 13,
      "metadata": {
        "id": "3Xt32r5i2A9k"
      },
      "outputs": [],
      "source": [
        "\n",
        "def cal_time(num_of_threads):\n",
        "    size_matrix = (1000, 1000)\n",
        "    num_of_matrices = 100\n",
        "\n",
        "    main_matrix = np.random.rand(*size_matrix)\n",
        "\n",
        "    results = []\n",
        "    lock_result = threading.Lock()\n",
        "\n",
        "    threads = []\n",
        "\n",
        "    matrices_per_thread = num_of_matrices // num_of_threads\n",
        "    remaining_matrices = num_of_matrices % num_of_threads\n",
        "\n",
        "    start_time = time.time()\n",
        "\n",
        "    for _ in range(num_of_threads):\n",
        "        if remaining_matrices > 0:\n",
        "            num_of_matrices_this_thread = matrices_per_thread + 1\n",
        "            remaining_matrices -= 1\n",
        "        else:\n",
        "            num_of_matrices_this_thread = matrices_per_thread\n",
        "\n",
        "        thread = threading.Thread(\n",
        "            target=matrix_multiplication_threading,\n",
        "            args=(num_of_matrices_this_thread, size_matrix,\n",
        "                  main_matrix, results, lock_result),\n",
        "        )\n",
        "        threads.append(thread)\n",
        "        thread.start()\n",
        "\n",
        "    # Wait for all threads to complete\n",
        "    for thread in threads:\n",
        "        thread.join()\n",
        "\n",
        "    end_time = time.time()\n",
        "\n",
        "    # Calculate total time taken\n",
        "    total_time = end_time - start_time\n",
        "\n",
        "    print(f\"Number of results: {len(results)}\")\n",
        "    print(\n",
        "        f\"Total time taken with {num_of_threads} threads: {total_time:.4f} seconds\")\n",
        "    return total_time\n"
      ]
    },
    {
      "cell_type": "code",
      "execution_count": 14,
      "metadata": {
        "colab": {
          "base_uri": "https://localhost:8080/"
        },
        "id": "ncceb6Ro2FW4",
        "outputId": "5e2faf20-1e06-42e7-94d9-4f09ecb53312"
      },
      "outputs": [
        {
          "name": "stdout",
          "output_type": "stream",
          "text": [
            "Number of results: 100\n",
            "Total time taken with 1 threads: 5.3180 seconds\n",
            "Number of results: 100\n",
            "Total time taken with 2 threads: 3.4723 seconds\n",
            "Number of results: 100\n",
            "Total time taken with 3 threads: 4.5518 seconds\n",
            "Number of results: 100\n",
            "Total time taken with 4 threads: 3.2617 seconds\n",
            "Number of results: 100\n",
            "Total time taken with 5 threads: 3.0175 seconds\n",
            "Number of results: 100\n",
            "Total time taken with 6 threads: 4.0722 seconds\n",
            "Number of results: 100\n",
            "Total time taken with 7 threads: 3.9337 seconds\n",
            "Number of results: 100\n",
            "Total time taken with 8 threads: 3.9218 seconds\n",
            "Number of results: 100\n",
            "Total time taken with 9 threads: 2.8314 seconds\n",
            "Number of results: 100\n",
            "Total time taken with 10 threads: 2.6345 seconds\n",
            "Number of results: 100\n",
            "Total time taken with 11 threads: 2.6292 seconds\n",
            "Number of results: 100\n",
            "Total time taken with 12 threads: 2.9074 seconds\n",
            "Number of results: 100\n",
            "Total time taken with 13 threads: 3.0877 seconds\n",
            "Number of results: 100\n",
            "Total time taken with 14 threads: 4.2908 seconds\n",
            "Number of results: 100\n",
            "Total time taken with 15 threads: 3.4633 seconds\n",
            "Number of results: 100\n",
            "Total time taken with 16 threads: 3.1576 seconds\n"
          ]
        }
      ],
      "source": [
        "num_of_threads = [1, 2, 3, 4, 5, 6, 7, 8, 9, 10, 11,\n",
        "                  12, 13, 14, 15, 16]\n",
        "time_taken = []\n",
        "for i in range(0, len(num_of_threads)):\n",
        "    time_taken.append(cal_time(num_of_threads[i]))\n",
        "\n"
      ]
    },
    {
      "cell_type": "code",
      "execution_count": 15,
      "metadata": {
        "colab": {
          "base_uri": "https://localhost:8080/"
        },
        "id": "5D83CtWlGgc3",
        "outputId": "4335e85e-7fa1-446e-a49b-7b6f48e01599"
      },
      "outputs": [
        {
          "data": {
            "text/plain": [
              "[5.318028688430786,\n",
              " 3.4723334312438965,\n",
              " 4.551849126815796,\n",
              " 3.261657238006592,\n",
              " 3.0174903869628906,\n",
              " 4.072178840637207,\n",
              " 3.9337470531463623,\n",
              " 3.921766519546509,\n",
              " 2.831439733505249,\n",
              " 2.6345319747924805,\n",
              " 2.629171133041382,\n",
              " 2.9074196815490723,\n",
              " 3.0876686573028564,\n",
              " 4.290789604187012,\n",
              " 3.4633002281188965,\n",
              " 3.1576175689697266]"
            ]
          },
          "execution_count": 15,
          "metadata": {},
          "output_type": "execute_result"
        }
      ],
      "source": [
        "time_taken"
      ]
    },
    {
      "cell_type": "code",
      "execution_count": 16,
      "metadata": {
        "colab": {
          "base_uri": "https://localhost:8080/",
          "height": 472
        },
        "id": "c7y2KI-32I2f",
        "outputId": "c729fba0-0b6e-4743-abec-51c0107b11db"
      },
      "outputs": [
        {
          "data": {
            "image/png": "[encoded data removed]",
            "text/plain": [
              "<Figure size 640x480 with 1 Axes>"
            ]
          },
          "metadata": {},
          "output_type": "display_data"
        }
      ],
      "source": [
        "plt.plot(num_of_threads, time_taken, marker='o', linestyle='-')\n",
        "plt.title('Execution Time')\n",
        "plt.xlabel('Number of Threads')\n",
        "plt.ylabel('Time Taken (seconds)')\n",
        "plt.xticks(num_of_threads)\n",
        "plt.show()"
      ]
    }
  ],
  "metadata": {
    "colab": {
      "provenance": []
    },
    "kernelspec": {
      "display_name": "Python 3",
      "name": "python3"
    },
    "language_info": {
      "codemirror_mode": {
        "name": "ipython",
        "version": 3
      },
      "file_extension": ".py",
      "mimetype": "text/x-python",
      "name": "python",
      "nbconvert_exporter": "python",
      "pygments_lexer": "ipython3",
      "version": "3.10.7"
    }
  },
  "nbformat": 4,
  "nbformat_minor": 0
}
